{
 "cells": [
  {
   "cell_type": "markdown",
   "metadata": {},
   "source": [
    "# Conference Room"
   ]
  },
  {
   "cell_type": "code",
   "execution_count": 1,
   "metadata": {},
   "outputs": [],
   "source": [
    "# Import data to pandas dataframe\n",
    "import pandas as pd\n",
    "\n",
    "cr_data_dir = '../data/CFD_Results/conference_room/'\n",
    "\n",
    "mrt_data = pd.read_csv(cr_data_dir+'training_MRT.csv')\n",
    "t_data = pd.read_csv(cr_data_dir+'training_T.csv')[['T']]\n",
    "v_data = pd.read_csv(cr_data_dir+'training_V.csv')[['V']]\n",
    "\n",
    "# Concatenate dataframes' columns\n",
    "cr_df = pd.concat([mrt_data, t_data, v_data], axis=1)\n",
    "\n",
    "# Export dataframe to csv\n",
    "cr_df.to_csv('../data/preprocessed/conference_room.csv', index=False)"
   ]
  },
  {
   "cell_type": "markdown",
   "metadata": {},
   "source": [
    "# Enclosed Office"
   ]
  },
  {
   "cell_type": "code",
   "execution_count": 2,
   "metadata": {},
   "outputs": [],
   "source": [
    "eo_data_dir = '../data/CFD_Results/enclosed_office/'\n",
    "\n",
    "mrt_data = pd.read_csv(eo_data_dir+'training_MRT.csv')\n",
    "t_data = pd.read_csv(eo_data_dir+'training_T.csv')[['T']]\n",
    "v_data = pd.read_csv(eo_data_dir+'training_V.csv')[['V']]\n",
    "\n",
    "# Concatenate dataframes' columns\n",
    "eo_df = pd.concat([mrt_data, t_data, v_data], axis=1)\n",
    "\n",
    "# Export dataframe to csv\n",
    "eo_df.to_csv('../data/preprocessed/enclosed_office.csv', index=False)"
   ]
  },
  {
   "cell_type": "markdown",
   "metadata": {},
   "source": [
    "# Enclosed Office with Validation"
   ]
  },
  {
   "cell_type": "code",
   "execution_count": 3,
   "metadata": {},
   "outputs": [],
   "source": [
    "eo_wv_data_dir = '../data/CFD_Results/enclosed_office/with_validation/'\n",
    "\n",
    "mrt_data = pd.read_csv(eo_wv_data_dir+'training_MRT-w_valid.csv')\n",
    "t_data = pd.read_csv(eo_wv_data_dir+'training_T-w_valid.csv')[['T']]\n",
    "v_data = pd.read_csv(eo_wv_data_dir+'training_V-w_valid.csv')[['V']]\n",
    "\n",
    "# Concatenate dataframes' columns\n",
    "eo_wv_df = pd.concat([mrt_data, t_data, v_data], axis=1)\n",
    "\n",
    "# Export dataframe to csv\n",
    "eo_wv_df.to_csv('../data/preprocessed/enclosed_office-w_valid.csv', index=False)"
   ]
  },
  {
   "cell_type": "markdown",
   "metadata": {},
   "source": [
    "# Open Office"
   ]
  },
  {
   "cell_type": "code",
   "execution_count": 4,
   "metadata": {},
   "outputs": [],
   "source": [
    "oo_data_dir = '../data/CFD_Results/open_office/'\n",
    "\n",
    "mrt_data = pd.read_csv(oo_data_dir+'training_MRT.csv')\n",
    "t_data = pd.read_csv(oo_data_dir+'training_T.csv')[['T']]\n",
    "v_data = pd.read_csv(oo_data_dir+'training_V.csv')[['V']]\n",
    "\n",
    "# Concatenate dataframes' columns\n",
    "oo_df = pd.concat([mrt_data, t_data, v_data], axis=1)\n",
    "\n",
    "# Export dataframe to csv\n",
    "oo_df.to_csv('../data/preprocessed/open_office.csv', index=False)"
   ]
  },
  {
   "cell_type": "markdown",
   "metadata": {},
   "source": [
    "# Small Office"
   ]
  },
  {
   "cell_type": "code",
   "execution_count": 5,
   "metadata": {},
   "outputs": [],
   "source": [
    "so_data_dir = '../data/CFD_Results/small_office/'\n",
    "\n",
    "mrt_data = pd.read_csv(so_data_dir+'training_MRT.csv')\n",
    "t_data = pd.read_csv(so_data_dir+'training_T.csv')[['T']]\n",
    "v_data = pd.read_csv(so_data_dir+'training_V.csv')[['V']]\n",
    "\n",
    "# Concatenate dataframes' columns\n",
    "so_df = pd.concat([mrt_data, t_data, v_data], axis=1)\n",
    "\n",
    "# Export dataframe to csv\n",
    "so_df.to_csv('../data/preprocessed/small_office.csv')"
   ]
  }
 ],
 "metadata": {
  "interpreter": {
   "hash": "b2ef8efef05438f3cc9d6f26cc8a087a450b2ec2efd4426dfc5c5f3655d07f60"
  },
  "kernelspec": {
   "display_name": "Python 3.8.5 64-bit ('base': conda)",
   "language": "python",
   "name": "python3"
  },
  "language_info": {
   "codemirror_mode": {
    "name": "ipython",
    "version": 3
   },
   "file_extension": ".py",
   "mimetype": "text/x-python",
   "name": "python",
   "nbconvert_exporter": "python",
   "pygments_lexer": "ipython3",
   "version": "3.8.5"
  },
  "orig_nbformat": 4
 },
 "nbformat": 4,
 "nbformat_minor": 2
}
